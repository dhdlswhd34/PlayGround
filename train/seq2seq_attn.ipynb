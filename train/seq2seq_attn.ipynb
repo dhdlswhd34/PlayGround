{
  "nbformat": 4,
  "nbformat_minor": 0,
  "metadata": {
    "colab": {
      "name": "seq2seq_attn.ipynb",
      "provenance": [],
      "collapsed_sections": [],
      "machine_shape": "hm",
      "mount_file_id": "https://github.com/EvoDmiK/AI_study/blob/main/NLP/Korean/seq2seq_attn.ipynb",
      "authorship_tag": "ABX9TyMncNwkg6b1KsQH6w27t7yg",
      "include_colab_link": true
    },
    "kernelspec": {
      "name": "python3",
      "display_name": "Python 3"
    },
    "language_info": {
      "name": "python"
    },
    "accelerator": "GPU"
  },
  "cells": [
    {
      "cell_type": "markdown",
      "metadata": {
        "id": "view-in-github",
        "colab_type": "text"
      },
      "source": [
        "<a href=\"https://colab.research.google.com/github/dhdlswhd34/PlayGround/blob/main/train/seq2seq_attn.ipynb\" target=\"_parent\"><img src=\"https://colab.research.google.com/assets/colab-badge.svg\" alt=\"Open In Colab\"/></a>"
      ]
    },
    {
      "cell_type": "code",
      "execution_count": 1,
      "metadata": {
        "id": "PNIWcNV48Lks"
      },
      "outputs": [],
      "source": [
        "from __future__ import unicode_literals, print_function, division\n",
        "import torch.nn.functional as F\n",
        "from torch import optim\n",
        "import torch.nn as nn\n",
        "from io import open\n",
        "import unicodedata\n",
        "import random\n",
        "import string\n",
        "import torch\n",
        "import re\n"
      ]
    },
    {
      "cell_type": "code",
      "source": [
        "device = torch.device('cuda' if torch.cuda.is_available() else 'cpu')\n",
        "\n",
        "SOS_token = 0\n",
        "EOS_token = 1"
      ],
      "metadata": {
        "id": "MucfrUb29HTR"
      },
      "execution_count": 2,
      "outputs": []
    },
    {
      "cell_type": "code",
      "source": [
        "ROOT_PATH = '/content/drive/MyDrive/Colab Notebooks'"
      ],
      "metadata": {
        "id": "B4rpnkeF9Shv"
      },
      "execution_count": 3,
      "outputs": []
    },
    {
      "cell_type": "code",
      "source": [
        "class Lang:\n",
        "  def __init__(self, name):\n",
        "\n",
        "    self.name = name\n",
        "    self.word2idx, self.word2cnt = {}, {}\n",
        "    self.idx2word = {0 : 'SOS', 1 : 'EOS'}\n",
        "    self.n_words = 2\n",
        "\n",
        "  def add_sentence(self, senteces):\n",
        "    for word in senteces.split(' '):\n",
        "      self.add_word(word)\n",
        "\n",
        "  def add_word(self, word):\n",
        "    if word not in self.word2idx:\n",
        "      self.word2idx[word] = self.n_words\n",
        "      self.word2cnt[word] = 1\n",
        "      self.idx2word[self.n_words] = word\n",
        "      self.n_words += 1\n",
        "\n",
        "    else:\n",
        "      self.word2cnt[word] += 1"
      ],
      "metadata": {
        "id": "BUdr7n0OLDnk"
      },
      "execution_count": 4,
      "outputs": []
    },
    {
      "cell_type": "code",
      "source": [
        "def preprocessing(string):\n",
        "\n",
        "  ## 문자열 공백제거 ##\n",
        "  string = string.strip()\n",
        "  string = re.sub(r'[^ ㄱ-ㅣ가-힣.!?]+', r\" \", string)\n",
        "  return string\n"
      ],
      "metadata": {
        "id": "_aXcry_ZMmOz"
      },
      "execution_count": 5,
      "outputs": []
    },
    {
      "cell_type": "code",
      "source": [
        "def read_texts(text_path, reverse = False):\n",
        "  lines = open(text_path, encoding='utf-8').read().strip().split('\\n')\n",
        "  pairs = [[preprocessing(string) for string in line.split('\\t\\t\\t')] for line in lines]\n",
        "\n",
        "  if reverse:\n",
        "    pairs = [list(reversed(pair)) for pair in pairs]\n",
        "    input_corpus = Lang('dialect')\n",
        "    output_corpus = Lang('standard')\n",
        "\n",
        "  else:\n",
        "    input_corpus = Lang('standard')\n",
        "    output_corpus = Lang('dialect')\n",
        "\n",
        "  return input_corpus, output_corpus, pairs"
      ],
      "metadata": {
        "id": "1isaerTAQH5N"
      },
      "execution_count": 6,
      "outputs": []
    },
    {
      "cell_type": "code",
      "source": [
        "def prepare_dataset(text_path, reverse = False):\n",
        "  input_corpus, output_corpus, pairs = read_texts(text_path, reverse)\n",
        "  for pair in pairs:\n",
        "    input_corpus.add_sentence(pair[0])\n",
        "    output_corpus.add_sentence(pair[1])\n",
        "\n",
        "  print(input_corpus.name, input_corpus.n_words)\n",
        "  print(output_corpus.name, output_corpus.n_words)\n",
        "\n",
        "  return input_corpus, output_corpus, pairs\n",
        "\n",
        "text_path = f'{ROOT_PATH}/dataset/corpuses.txt'\n",
        "dialect, standard, pairs = prepare_dataset(text_path, True)"
      ],
      "metadata": {
        "id": "LJ0G_EJqNtOL",
        "colab": {
          "base_uri": "https://localhost:8080/"
        },
        "outputId": "7594214b-402d-41a5-c176-aee591de4aec"
      },
      "execution_count": 7,
      "outputs": [
        {
          "output_type": "stream",
          "name": "stdout",
          "text": [
            "dialect 266263\n",
            "standard 251671\n"
          ]
        }
      ]
    },
    {
      "cell_type": "code",
      "source": [
        "random_pair = random.choice(pairs)\n",
        "print(random_pair)"
      ],
      "metadata": {
        "colab": {
          "base_uri": "https://localhost:8080/"
        },
        "id": "YM9U_DKVy0cS",
        "outputId": "c64fa256-4c8b-46fb-d8c1-e8e6eefef1f5"
      },
      "execution_count": 8,
      "outputs": [
        {
          "output_type": "stream",
          "name": "stdout",
          "text": [
            "['왜냐면 나는 어른들을 대할 때 쫌 어려워하는 펀인데', '왜냐면 나는 어른들을 대할 때 조금 어려워하는 펀인데']\n"
          ]
        }
      ]
    },
    {
      "cell_type": "code",
      "source": [
        "class Encoder(nn.Module):\n",
        "\n",
        "  def __init__(self, input_size, hidden_size):\n",
        "    super(Encoder, self).__init__()\n",
        "    self.hidden_size = hidden_size\n",
        "\n",
        "    self.embedding = nn.Embedding(input_size, hidden_size)\n",
        "    self.gru = nn.GRU(hidden_size, hidden_size)\n",
        "\n",
        "  def forward(self, input, hidden):\n",
        "    embedded = self.embedding(input).view(1, 1, -1)\n",
        "    output = embedded\n",
        "\n",
        "    output, hidden = self.gru(output, hidden)\n",
        "    return output, hidden\n",
        "\n",
        "  def init_hidden(self):\n",
        "    return torch.zeros(1, 1, self.hidden_size, device=device)"
      ],
      "metadata": {
        "id": "FhrIF9wfXbkK"
      },
      "execution_count": 9,
      "outputs": []
    },
    {
      "cell_type": "code",
      "source": [
        "class Decoder(nn.Module):\n",
        "\n",
        "  def __init__(self, hidden_size, output_size):\n",
        "    super(Decoder, self).__init__()\n",
        "    self.hidden_size = hidden_size\n",
        "\n",
        "    self.embedding = nn.Embedding(output_size, hidden_size)\n",
        "    self.gru = nn.GRU(hidden_size, hidden_size)\n",
        "    self.out = nn.Linear(hidden_size, output_size)\n",
        "\n",
        "    self.softmax = nn.LogSoftmax(dim = 1)\n",
        "\n",
        "  def forward(self, input, hidden):\n",
        "    output = self.embedding(input).view(1, 1, -1)\n",
        "    output = F.relu(output)\n",
        "    output, hidden = self.gru(output, hidden)\n",
        "    output = self.softmax(self.out(output[0]))\n",
        "    return output, hidden_size\n",
        "\n",
        "  def init_hidden(self):\n",
        "    return torch.zeros(1, 1, self.hidden_size, device = device)"
      ],
      "metadata": {
        "id": "BhmW_JEZY21g"
      },
      "execution_count": 10,
      "outputs": []
    },
    {
      "cell_type": "code",
      "source": [
        "class AttnDecoder(nn.Module):\n",
        "\n",
        "  def __init__(self, hidden_size, output_size, dropout_p = 0.1, max_length = 10):\n",
        "    super(AttnDecoder, self).__init__()\n",
        "    self.hidden_size = hidden_size\n",
        "    self.output_size = output_size\n",
        "    self.dropout_p = dropout_p\n",
        "    self.max_length = max_length\n",
        "\n",
        "    self.embedding = nn.Embedding(self.output_size, self.hidden_size)\n",
        "    self.attn = nn.Linear(self.hidden_size * 2, self.max_length)\n",
        "    self.attn_combine = nn.Linear(self.hidden_size * 2, self.hidden_size)\n",
        "    self.dropout = nn.Dropout(self.dropout_p)\n",
        "    self.gru = nn.GRU(self.hidden_size, self.hidden_size)\n",
        "    self.out = nn.Linear(self.hidden_size, self.output_size)\n",
        "\n",
        "  def forward(self, input, hidden, encoder_output):\n",
        "    embedded = self.embedding(input).view(1, 1, -1)\n",
        "    embedded = self.dropout(embedded)\n",
        "\n",
        "    attn_weights = F.softmax(self.attn(torch.cat((embedded[0], hidden[0]), 1)), dim=1)\n",
        "    attn_applied = torch.bmm(attn_weights.unsqueeze(0), encoder_output.unsqueeze(0))\n",
        "\n",
        "    output = torch.cat((embedded[0], attn_applied[0]), 1)\n",
        "    output, hidden = self.gru(output, hidden)\n",
        "\n",
        "    output = F.log_softmax(self.out(output[0]), dim=1)\n",
        "    return output, hidden, attn_weights\n",
        "\n",
        "\n",
        "  def init_hidden(self):\n",
        "    return torch.zeros(1, 1, self.hidden_size, device = device)"
      ],
      "metadata": {
        "id": "jBIrqT7FaAZ5"
      },
      "execution_count": 11,
      "outputs": []
    },
    {
      "cell_type": "code",
      "source": [
        "def idxs_from_sentence(lang, sentence):\n",
        "  return [lang.word2idx[word] for word in sentence.split(' ')]\n",
        "\n",
        "def tensor_from_sentence(lang, sentence):\n",
        "  idxs = idxs_from_sentence(lang,sentence)\n",
        "  idxs.append(EOS_token)\n",
        "  return torch.tensor(idxs, dtype=torch.long, device=device).view(-1, 1)\n",
        "\n",
        "def tensors_from_pair(pair):\n",
        "  standard_tensor = tensor_from_sentence(standard, pair[1])\n",
        "  dialect_tensor = tensor_from_sentence(dialect, pair[0])\n",
        "\n",
        "  return (dialect_tensor, standard_tensor)\n",
        "\n",
        "\n",
        "print(pairs[5][0], idxs_from_sentence(dialect, pairs[5][1]))"
      ],
      "metadata": {
        "id": "y9zpjnaacEkO",
        "colab": {
          "base_uri": "https://localhost:8080/"
        },
        "outputId": "1158add1-fe6e-4f7d-b512-2f4c893d1cd8"
      },
      "execution_count": 12,
      "outputs": [
        {
          "output_type": "stream",
          "name": "stdout",
          "text": [
            "그러면 사실은 우리는 뭐 없어서 못 묵지. [46, 47, 48, 49, 50, 3, 21226]\n"
          ]
        }
      ]
    },
    {
      "cell_type": "code",
      "source": [
        "teacher_forcing_ratio = 0.5\n",
        "\n",
        "def train(input_tensor, label_tensor, encoder, decoder, encoder_optim,\n",
        "          decoder_optim, loss_func, max_length = 10):\n",
        "  \n",
        "  encoder_hidden = encoder.init_hidden()\n",
        "\n",
        "  encoder_optim.zero_grad()\n",
        "  decoder_optim.zero_grad()\n",
        "\n",
        "  input_length = input_tensor.size(0)\n",
        "  label_length = label_tensor.size(0)\n",
        "\n",
        "  encoder_outputs = torch.zeros(max_length, encoder.hidden_size, device = device)\n",
        "  loss = 0\n",
        "\n",
        "  for ei in range(input_length):\n",
        "    encoder_output, encoder_hidden = encoder(\n",
        "        input_tensor[ei], encoder_hidden)\n",
        "    encoder_outputs[ei] = encoder_output[0, 0]\n",
        "\n",
        "  decoder_input = torch.tensor([[[SOS_token]]], device=device)\n",
        "  decoder_hidden = decoder.init_hidden()\n",
        "\n",
        "  print(f'\\n\\n\\n {decoder_input.dim()} \\n\\n\\n')\n",
        "  use_teacher_forcing = True if random.random() < teacher_forcing_ratio else False\n",
        "\n",
        "  ## teacher_forcing을 사용할 경우에는 레이블 값을 다음 입력으로 전달\n",
        "  if use_teacher_forcing:\n",
        "    for di in range(label_length):\n",
        "      decoder_output, decoder_hidden, decoder_attn = decoder(\n",
        "          decoder_input, decoder_hidden, encoder_outputs)\n",
        "      loss += loss_func(decoder_output, label_tensor[di])\n",
        "\n",
        "  ## teacher_forcing을 사용하지 않을 경우에는 자신의 예측을 다음 입력으로 전달\n",
        "  else:\n",
        "    for di in range(label_length):\n",
        "      decoder_output, decoder_hidden, decoder_attn = decoder(\n",
        "          decoder_input, decoder_hidden, encoder_outputs)\n",
        "      topv, topi = decoder_output.topk(1)\n",
        "      decoder_input = topi.squeeze().detach()\n",
        "\n",
        "      loss += loss_func(decoder_output, label_tensor[di])\n",
        "      if decoder_input.item() == EOS_token: break\n",
        "  \n",
        "  loss.backward()\n",
        "  encoder_optim.step()\n",
        "  decoder_optim.step()\n",
        "\n",
        "  return loss.item() / label_length"
      ],
      "metadata": {
        "id": "PL06VNAbdCcW"
      },
      "execution_count": 23,
      "outputs": []
    },
    {
      "cell_type": "code",
      "source": [
        "import time, math\n",
        "\n",
        "def as_minutes(seconds):\n",
        "  minute = math.floor(secods / 60)\n",
        "  seconds -= minute * 60\n",
        "  return f'{minute}min {seconds}sec'\n",
        "\n",
        "def time_since(since, percent):\n",
        "  now = time.time()\n",
        "  spend = now - since\n",
        "  es = spend / percent\n",
        "  rs = es - spend\n",
        "  return f'{as_minutes(spend)} (- {as_minutes(rs)})'"
      ],
      "metadata": {
        "id": "kS2sBg4xgvcu"
      },
      "execution_count": 24,
      "outputs": []
    },
    {
      "cell_type": "code",
      "source": [
        "def train_iters(encoder, decoder, epochs, lr = 1e-2, print_every = 1000, plot_every = 100):\n",
        "  start = time.time()\n",
        "\n",
        "  plot_losses = []\n",
        "  print_loss_total = 0\n",
        "  plot_loss_total = 0\n",
        "\n",
        "  encoder_optim = optim.SGD(encoder.parameters(), lr = lr)\n",
        "  decoder_optim = optim.SGD(decoder.parameters(), lr = lr)\n",
        "\n",
        "  training_pairs = [tensors_from_pair(random.choice(pairs)) \n",
        "                    for _ in range(epochs)]\n",
        "  print(training_pairs)\n",
        "  loss_func = nn.NLLLoss()\n",
        "\n",
        "  for epoch in range(1, epochs + 1):\n",
        "    print(f'======= {epoch} start ====')\n",
        "    training_pair = training_pairs[epoch - 1]\n",
        "    input_tensor = training_pair[0]\n",
        "    print(training_pair, type(input_tensor))\n",
        "    label_tensor = training_pair[1]\n",
        "\n",
        "    loss = train(input_tensor, label_tensor, encoder, decoder,\n",
        "                 encoder_optim, decoder_optim, loss_func)\n",
        "    \n",
        "    if epoch % print_every == 0:\n",
        "      print_loss_avg = print_loss_total / print_every\n",
        "      print_loss_total = 0\n",
        "      print(f'{time_since(start, epoch / epochs)} ({epoch} {epoch *100/ epochs}%) {print_loss_avg:.4f}')\n",
        "\n",
        "    \n",
        "    if epoch % plot_every == 0:\n",
        "      plot_loss_avg = plot_loss_total / plot_every\n",
        "      plot_losses.append(plot_loss_avg)\n",
        "      plot_loss_total = 0\n",
        "\n",
        "    show_plot(plot_losses)\n"
      ],
      "metadata": {
        "id": "wwZHDKxfhfH-"
      },
      "execution_count": 25,
      "outputs": []
    },
    {
      "cell_type": "code",
      "source": [
        "import numpy as np\n",
        "import matplotlib.pyplot as plt\n",
        "import matplotlib.ticker as ticker\n",
        "\n",
        "plt.switch_backend('agg')\n",
        "\n",
        "def show_plot(points):\n",
        "  plt.figure()\n",
        "  fig, ax = plt.subplots()\n",
        "\n",
        "  loc = ticker.MultipleLocator(base=0.2)\n",
        "  ax.yaxis.set_major_locator(loc)\n",
        "  plt.plot(points)"
      ],
      "metadata": {
        "id": "Wx88wTIqjomW"
      },
      "execution_count": 26,
      "outputs": []
    },
    {
      "cell_type": "code",
      "source": [
        "hidden_size = 256\n",
        "encoder1 = Encoder(dialect.n_words, hidden_size).to(device)\n",
        "attn_decoder1 = AttnDecoder(hidden_size, standard.n_words, dropout_p=0.1).to(device)\n",
        "\n",
        "train_iters(encoder1, attn_decoder1, 75000, print_every = 5000)"
      ],
      "metadata": {
        "id": "dmQPdvOTkNyW",
        "colab": {
          "base_uri": "https://localhost:8080/",
          "height": 548
        },
        "outputId": "3f87cf01-4dcf-498c-a348-c1b79e88bc25"
      },
      "execution_count": 27,
      "outputs": [
        {
          "output_type": "stream",
          "name": "stderr",
          "text": [
            "IOPub data rate exceeded.\n",
            "The notebook server will temporarily stop sending output\n",
            "to the client in order to avoid crashing it.\n",
            "To change this limit, set the config variable\n",
            "`--NotebookApp.iopub_data_rate_limit`.\n",
            "\n",
            "Current values:\n",
            "NotebookApp.iopub_data_rate_limit=1000000.0 (bytes/sec)\n",
            "NotebookApp.rate_limit_window=3.0 (secs)\n",
            "\n"
          ]
        },
        {
          "output_type": "error",
          "ename": "IndexError",
          "evalue": "ignored",
          "traceback": [
            "\u001b[0;31m---------------------------------------------------------------------------\u001b[0m",
            "\u001b[0;31mIndexError\u001b[0m                                Traceback (most recent call last)",
            "\u001b[0;32m<ipython-input-27-d4c52b13ff73>\u001b[0m in \u001b[0;36m<module>\u001b[0;34m()\u001b[0m\n\u001b[1;32m      3\u001b[0m \u001b[0mattn_decoder1\u001b[0m \u001b[0;34m=\u001b[0m \u001b[0mAttnDecoder\u001b[0m\u001b[0;34m(\u001b[0m\u001b[0mhidden_size\u001b[0m\u001b[0;34m,\u001b[0m \u001b[0mstandard\u001b[0m\u001b[0;34m.\u001b[0m\u001b[0mn_words\u001b[0m\u001b[0;34m,\u001b[0m \u001b[0mdropout_p\u001b[0m\u001b[0;34m=\u001b[0m\u001b[0;36m0.1\u001b[0m\u001b[0;34m)\u001b[0m\u001b[0;34m.\u001b[0m\u001b[0mto\u001b[0m\u001b[0;34m(\u001b[0m\u001b[0mdevice\u001b[0m\u001b[0;34m)\u001b[0m\u001b[0;34m\u001b[0m\u001b[0;34m\u001b[0m\u001b[0m\n\u001b[1;32m      4\u001b[0m \u001b[0;34m\u001b[0m\u001b[0m\n\u001b[0;32m----> 5\u001b[0;31m \u001b[0mtrain_iters\u001b[0m\u001b[0;34m(\u001b[0m\u001b[0mencoder1\u001b[0m\u001b[0;34m,\u001b[0m \u001b[0mattn_decoder1\u001b[0m\u001b[0;34m,\u001b[0m \u001b[0;36m75000\u001b[0m\u001b[0;34m,\u001b[0m \u001b[0mprint_every\u001b[0m \u001b[0;34m=\u001b[0m \u001b[0;36m5000\u001b[0m\u001b[0;34m)\u001b[0m\u001b[0;34m\u001b[0m\u001b[0;34m\u001b[0m\u001b[0m\n\u001b[0m",
            "\u001b[0;32m<ipython-input-25-578a0613a952>\u001b[0m in \u001b[0;36mtrain_iters\u001b[0;34m(encoder, decoder, epochs, lr, print_every, plot_every)\u001b[0m\n\u001b[1;32m     22\u001b[0m \u001b[0;34m\u001b[0m\u001b[0m\n\u001b[1;32m     23\u001b[0m     loss = train(input_tensor, label_tensor, encoder, decoder,\n\u001b[0;32m---> 24\u001b[0;31m                  encoder_optim, decoder_optim, loss_func)\n\u001b[0m\u001b[1;32m     25\u001b[0m \u001b[0;34m\u001b[0m\u001b[0m\n\u001b[1;32m     26\u001b[0m     \u001b[0;32mif\u001b[0m \u001b[0mepoch\u001b[0m \u001b[0;34m%\u001b[0m \u001b[0mprint_every\u001b[0m \u001b[0;34m==\u001b[0m \u001b[0;36m0\u001b[0m\u001b[0;34m:\u001b[0m\u001b[0;34m\u001b[0m\u001b[0;34m\u001b[0m\u001b[0m\n",
            "\u001b[0;32m<ipython-input-23-98c6f00acd4b>\u001b[0m in \u001b[0;36mtrain\u001b[0;34m(input_tensor, label_tensor, encoder, decoder, encoder_optim, decoder_optim, loss_func, max_length)\u001b[0m\n\u001b[1;32m     18\u001b[0m     encoder_output, encoder_hidden = encoder(\n\u001b[1;32m     19\u001b[0m         input_tensor[ei], encoder_hidden)\n\u001b[0;32m---> 20\u001b[0;31m     \u001b[0mencoder_outputs\u001b[0m\u001b[0;34m[\u001b[0m\u001b[0mei\u001b[0m\u001b[0;34m]\u001b[0m \u001b[0;34m=\u001b[0m \u001b[0mencoder_output\u001b[0m\u001b[0;34m[\u001b[0m\u001b[0;36m0\u001b[0m\u001b[0;34m,\u001b[0m \u001b[0;36m0\u001b[0m\u001b[0;34m]\u001b[0m\u001b[0;34m\u001b[0m\u001b[0;34m\u001b[0m\u001b[0m\n\u001b[0m\u001b[1;32m     21\u001b[0m \u001b[0;34m\u001b[0m\u001b[0m\n\u001b[1;32m     22\u001b[0m   \u001b[0mdecoder_input\u001b[0m \u001b[0;34m=\u001b[0m \u001b[0mtorch\u001b[0m\u001b[0;34m.\u001b[0m\u001b[0mtensor\u001b[0m\u001b[0;34m(\u001b[0m\u001b[0;34m[\u001b[0m\u001b[0;34m[\u001b[0m\u001b[0;34m[\u001b[0m\u001b[0mSOS_token\u001b[0m\u001b[0;34m]\u001b[0m\u001b[0;34m]\u001b[0m\u001b[0;34m]\u001b[0m\u001b[0;34m,\u001b[0m \u001b[0mdevice\u001b[0m\u001b[0;34m=\u001b[0m\u001b[0mdevice\u001b[0m\u001b[0;34m)\u001b[0m\u001b[0;34m\u001b[0m\u001b[0;34m\u001b[0m\u001b[0m\n",
            "\u001b[0;31mIndexError\u001b[0m: index 10 is out of bounds for dimension 0 with size 10"
          ]
        }
      ]
    },
    {
      "cell_type": "code",
      "source": [
        "  decoder_input = torch.tensor([[[SOS_token]]], device=device)\n",
        "  decoder_input.dim()"
      ],
      "metadata": {
        "colab": {
          "base_uri": "https://localhost:8080/"
        },
        "id": "xxw-EQ6H24eo",
        "outputId": "f56a02f7-d7a1-4a3d-d83a-21d0b0fd1ae9"
      },
      "execution_count": 21,
      "outputs": [
        {
          "output_type": "execute_result",
          "data": {
            "text/plain": [
              "3"
            ]
          },
          "metadata": {},
          "execution_count": 21
        }
      ]
    },
    {
      "cell_type": "code",
      "source": [
        "torch.zeros(10, 1, device = device)"
      ],
      "metadata": {
        "colab": {
          "base_uri": "https://localhost:8080/"
        },
        "id": "C826S8ThYxl7",
        "outputId": "e61ffb81-5184-4563-f8f8-375ea5b78521"
      },
      "execution_count": 29,
      "outputs": [
        {
          "output_type": "execute_result",
          "data": {
            "text/plain": [
              "tensor([[0.],\n",
              "        [0.],\n",
              "        [0.],\n",
              "        [0.],\n",
              "        [0.],\n",
              "        [0.],\n",
              "        [0.],\n",
              "        [0.],\n",
              "        [0.],\n",
              "        [0.]], device='cuda:0')"
            ]
          },
          "metadata": {},
          "execution_count": 29
        }
      ]
    }
  ]
}