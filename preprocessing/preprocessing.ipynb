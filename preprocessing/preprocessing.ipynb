{
  "nbformat": 4,
  "nbformat_minor": 0,
  "metadata": {
    "colab": {
      "name": "preprocessing.ipynb",
      "provenance": [],
      "collapsed_sections": [],
      "mount_file_id": "1r_Frrbvi_0VZOPA6c4b25grSV4UDSEHy",
      "authorship_tag": "ABX9TyPO+8yWdNFE7uK7So8gJEX+",
      "include_colab_link": true
    },
    "kernelspec": {
      "name": "python3",
      "display_name": "Python 3"
    },
    "language_info": {
      "name": "python"
    }
  },
  "cells": [
    {
      "cell_type": "markdown",
      "metadata": {
        "id": "view-in-github",
        "colab_type": "text"
      },
      "source": [
        "<a href=\"https://colab.research.google.com/github/dhdlswhd34/PlayGround/blob/main/preprocessing/preprocessing.ipynb\" target=\"_parent\"><img src=\"https://colab.research.google.com/assets/colab-badge.svg\" alt=\"Open In Colab\"/></a>"
      ]
    },
    {
      "cell_type": "code",
      "execution_count": 1,
      "metadata": {
        "id": "PrjWDYBzejqx"
      },
      "outputs": [],
      "source": [
        "## 필요 패키지들 임포트\n",
        "from imutils import paths\n",
        "import pandas as pd\n",
        "import json, os\n",
        "import shutil\n",
        "\n",
        "ROOT_PATH = '/content/drive/MyDrive/Colab Notebooks'"
      ]
    },
    {
      "cell_type": "code",
      "source": [
        "## raw_data 폴더에서 json 파일하고 txt 파일 분리해서 저장하는 함수\n",
        "def file_spliter(path):\n",
        "    \n",
        "    file_name = path.split(os.path.sep)[-1]\n",
        "    _, ext = os.path.splitext(file_name)\n",
        "\n",
        "    move_path = 'dataset/split/jsons' if 'json' in ext.lower() else 'dataset/split/texts'\n",
        "    os.makedirs(move_path, exist_ok = True)\n",
        "\n",
        "    shutil.copy(path, f'{move_path}/{file_name}')"
      ],
      "metadata": {
        "id": "lyW75OEZ2Xpm"
      },
      "execution_count": 2,
      "outputs": []
    },
    {
      "cell_type": "code",
      "source": [
        "## json 파일에서 표준어, 방언 쌍 데이터 추출하는 함수\n",
        "def utterance_mining(json_file, odx):\n",
        "    utterances, utterance_list = json_file['utterance'], []\n",
        "\n",
        "    ## json => utterance => standard_form : 표준어, dialect_form : 방언\n",
        "    utterance_append = utterance_list.append\n",
        "    for idx, utterance in enumerate(utterances, 1):\n",
        "        id = utterance['id'].split('.')[0]\n",
        "        standard, dialect = utterance['standard_form'], utterance['dialect_form']\n",
        "        \n",
        "        ## 표준어랑 방언이랑 다른 데이터들만 정제\n",
        "        if standard != dialect: utterance_append({'id' : id, 'standard' : standard, 'dialect' : dialect})\n",
        "        else: continue\n",
        "\n",
        "        print(f'[{odx}-{idx}] id : {id} \\nstandard : {standard} \\ndialect : {dialect}\\n')\n",
        "\n",
        "            \n",
        "    return utterance_list"
      ],
      "metadata": {
        "id": "dRa5cCK32a9b"
      },
      "execution_count": 3,
      "outputs": []
    },
    {
      "cell_type": "code",
      "source": [
        "## json 불러오도록 하는 함수\n",
        "read_json = lambda json_path: json.loads(open(json_path, 'rb').read())"
      ],
      "metadata": {
        "id": "SbbOitW22lSA"
      },
      "execution_count": 4,
      "outputs": []
    },
    {
      "cell_type": "code",
      "source": [
        "\n",
        "file_paths = sorted(paths.list_files(f'{ROOT_PATH}/dataset/raw_data'))\n",
        "print(len(file_paths))\n",
        "\n",
        "[file_spliter(path) for path in file_paths]\n",
        "\n",
        "json_paths = sorted(paths.list_files(f'dataset/split/jsons'))\n",
        "print(json_paths)\n",
        "\n",
        "json_read_func = read_json\n",
        "\n",
        "for odx, json_path in enumerate(json_paths, 1):\n",
        "\n",
        "    json_file = json_read_func(json_path)\n",
        "    utterances = utterance_mining(json_file, odx)"
      ],
      "metadata": {
        "colab": {
          "base_uri": "https://localhost:8080/"
        },
        "id": "g4bE90wy2eJD",
        "outputId": "7f87491b-b1aa-438e-e5f1-e7c2d7482931"
      },
      "execution_count": null,
      "outputs": [
        {
          "output_type": "stream",
          "name": "stdout",
          "text": [
            "15398\n"
          ]
        }
      ]
    },
    {
      "cell_type": "code",
      "source": [
        ""
      ],
      "metadata": {
        "id": "DiEx47qzk6e6"
      },
      "execution_count": null,
      "outputs": []
    }
  ]
}